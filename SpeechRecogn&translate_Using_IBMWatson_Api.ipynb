{
  "nbformat": 4,
  "nbformat_minor": 0,
  "metadata": {
    "colab": {
      "name": "SpeechRecogn&translate Using IBMWatson Api",
      "provenance": [],
      "authorship_tag": "ABX9TyPl2aUNSTF1qwHPQ6JbbKfK",
      "include_colab_link": true
    },
    "kernelspec": {
      "name": "python3",
      "display_name": "Python 3"
    }
  },
  "cells": [
    {
      "cell_type": "markdown",
      "metadata": {
        "id": "view-in-github",
        "colab_type": "text"
      },
      "source": [
        "<a href=\"https://colab.research.google.com/github/rohitdhonicsk/speech2text2translator_using_api/blob/master/SpeechRecogn%26translate_Using_IBMWatson_Api.ipynb\" target=\"_parent\"><img src=\"https://colab.research.google.com/assets/colab-badge.svg\" alt=\"Open In Colab\"/></a>"
      ]
    },
    {
      "cell_type": "code",
      "metadata": {
        "id": "MqAG2OILG9Ry",
        "colab_type": "code",
        "colab": {
          "base_uri": "https://localhost:8080/",
          "height": 554
        },
        "outputId": "63f60c8f-e2d0-4779-ddeb-d32d4fd00df1"
      },
      "source": [
        "!pip install ibm_watson wget"
      ],
      "execution_count": 1,
      "outputs": [
        {
          "output_type": "stream",
          "text": [
            "Collecting ibm_watson\n",
            "\u001b[?25l  Downloading https://files.pythonhosted.org/packages/36/01/a05ed4557dbeebd95b3dcda2d01ae66f94b1aa4700bc4a8a8713c77cfeda/ibm-watson-4.4.1.tar.gz (366kB)\n",
            "\r\u001b[K     |█                               | 10kB 5.6MB/s eta 0:00:01\r\u001b[K     |█▉                              | 20kB 1.4MB/s eta 0:00:01\r\u001b[K     |██▊                             | 30kB 1.9MB/s eta 0:00:01\r\u001b[K     |███▋                            | 40kB 1.6MB/s eta 0:00:01\r\u001b[K     |████▌                           | 51kB 1.8MB/s eta 0:00:01\r\u001b[K     |█████▍                          | 61kB 2.1MB/s eta 0:00:01\r\u001b[K     |██████▎                         | 71kB 2.3MB/s eta 0:00:01\r\u001b[K     |███████▏                        | 81kB 2.5MB/s eta 0:00:01\r\u001b[K     |████████                        | 92kB 2.8MB/s eta 0:00:01\r\u001b[K     |█████████                       | 102kB 2.6MB/s eta 0:00:01\r\u001b[K     |█████████▉                      | 112kB 2.6MB/s eta 0:00:01\r\u001b[K     |██████████▊                     | 122kB 2.6MB/s eta 0:00:01\r\u001b[K     |███████████▋                    | 133kB 2.6MB/s eta 0:00:01\r\u001b[K     |████████████▌                   | 143kB 2.6MB/s eta 0:00:01\r\u001b[K     |█████████████▍                  | 153kB 2.6MB/s eta 0:00:01\r\u001b[K     |██████████████▎                 | 163kB 2.6MB/s eta 0:00:01\r\u001b[K     |███████████████▏                | 174kB 2.6MB/s eta 0:00:01\r\u001b[K     |████████████████                | 184kB 2.6MB/s eta 0:00:01\r\u001b[K     |█████████████████               | 194kB 2.6MB/s eta 0:00:01\r\u001b[K     |█████████████████▉              | 204kB 2.6MB/s eta 0:00:01\r\u001b[K     |██████████████████▊             | 215kB 2.6MB/s eta 0:00:01\r\u001b[K     |███████████████████▊            | 225kB 2.6MB/s eta 0:00:01\r\u001b[K     |████████████████████▋           | 235kB 2.6MB/s eta 0:00:01\r\u001b[K     |█████████████████████▌          | 245kB 2.6MB/s eta 0:00:01\r\u001b[K     |██████████████████████▍         | 256kB 2.6MB/s eta 0:00:01\r\u001b[K     |███████████████████████▎        | 266kB 2.6MB/s eta 0:00:01\r\u001b[K     |████████████████████████▏       | 276kB 2.6MB/s eta 0:00:01\r\u001b[K     |█████████████████████████       | 286kB 2.6MB/s eta 0:00:01\r\u001b[K     |██████████████████████████      | 296kB 2.6MB/s eta 0:00:01\r\u001b[K     |██████████████████████████▉     | 307kB 2.6MB/s eta 0:00:01\r\u001b[K     |███████████████████████████▊    | 317kB 2.6MB/s eta 0:00:01\r\u001b[K     |████████████████████████████▋   | 327kB 2.6MB/s eta 0:00:01\r\u001b[K     |█████████████████████████████▌  | 337kB 2.6MB/s eta 0:00:01\r\u001b[K     |██████████████████████████████▍ | 348kB 2.6MB/s eta 0:00:01\r\u001b[K     |███████████████████████████████▎| 358kB 2.6MB/s eta 0:00:01\r\u001b[K     |████████████████████████████████| 368kB 2.6MB/s \n",
            "\u001b[?25hCollecting wget\n",
            "  Downloading https://files.pythonhosted.org/packages/47/6a/62e288da7bcda82b935ff0c6cfe542970f04e29c756b0e147251b2fb251f/wget-3.2.zip\n",
            "Requirement already satisfied: requests<3.0,>=2.0 in /usr/local/lib/python3.6/dist-packages (from ibm_watson) (2.23.0)\n",
            "Requirement already satisfied: python_dateutil>=2.5.3 in /usr/local/lib/python3.6/dist-packages (from ibm_watson) (2.8.1)\n",
            "Collecting websocket-client==0.48.0\n",
            "\u001b[?25l  Downloading https://files.pythonhosted.org/packages/8a/a1/72ef9aa26cfe1a75cee09fc1957e4723add9de098c15719416a1ee89386b/websocket_client-0.48.0-py2.py3-none-any.whl (198kB)\n",
            "\u001b[K     |████████████████████████████████| 204kB 7.8MB/s \n",
            "\u001b[?25hCollecting ibm_cloud_sdk_core==1.5.1\n",
            "  Downloading https://files.pythonhosted.org/packages/b7/f6/10d5271c807d73d236e6ae07b68035fed78b28b5ab836704d34097af3986/ibm-cloud-sdk-core-1.5.1.tar.gz\n",
            "Requirement already satisfied: urllib3!=1.25.0,!=1.25.1,<1.26,>=1.21.1 in /usr/local/lib/python3.6/dist-packages (from requests<3.0,>=2.0->ibm_watson) (1.24.3)\n",
            "Requirement already satisfied: idna<3,>=2.5 in /usr/local/lib/python3.6/dist-packages (from requests<3.0,>=2.0->ibm_watson) (2.9)\n",
            "Requirement already satisfied: certifi>=2017.4.17 in /usr/local/lib/python3.6/dist-packages (from requests<3.0,>=2.0->ibm_watson) (2020.4.5.1)\n",
            "Requirement already satisfied: chardet<4,>=3.0.2 in /usr/local/lib/python3.6/dist-packages (from requests<3.0,>=2.0->ibm_watson) (3.0.4)\n",
            "Requirement already satisfied: six>=1.5 in /usr/local/lib/python3.6/dist-packages (from python_dateutil>=2.5.3->ibm_watson) (1.12.0)\n",
            "Collecting PyJWT>=1.7.1\n",
            "  Downloading https://files.pythonhosted.org/packages/87/8b/6a9f14b5f781697e51259d81657e6048fd31a113229cf346880bb7545565/PyJWT-1.7.1-py2.py3-none-any.whl\n",
            "Building wheels for collected packages: ibm-watson, wget, ibm-cloud-sdk-core\n",
            "  Building wheel for ibm-watson (setup.py) ... \u001b[?25l\u001b[?25hdone\n",
            "  Created wheel for ibm-watson: filename=ibm_watson-4.4.1-cp36-none-any.whl size=360253 sha256=5f6a818f4b7a2f6434404f5da49b3c5bfd43cc8aa69afdfd81454b47b9fb1f45\n",
            "  Stored in directory: /root/.cache/pip/wheels/73/21/91/61a59270c329be2edc947c69871c25c50bf7dd87ebbfe07cdc\n",
            "  Building wheel for wget (setup.py) ... \u001b[?25l\u001b[?25hdone\n",
            "  Created wheel for wget: filename=wget-3.2-cp36-none-any.whl size=9682 sha256=0b3d19bde23d19c4f987de7c4ed4f532d0cea1cfe168d2b2a183dde08e747913\n",
            "  Stored in directory: /root/.cache/pip/wheels/40/15/30/7d8f7cea2902b4db79e3fea550d7d7b85ecb27ef992b618f3f\n",
            "  Building wheel for ibm-cloud-sdk-core (setup.py) ... \u001b[?25l\u001b[?25hdone\n",
            "  Created wheel for ibm-cloud-sdk-core: filename=ibm_cloud_sdk_core-1.5.1-cp36-none-any.whl size=44491 sha256=2ff7c62d4e0b7ce71b344031e84e68a576008037fda95263ec9554779ccb757a\n",
            "  Stored in directory: /root/.cache/pip/wheels/6a/42/50/f96888116b329578304f9dda4693cef6f3e76e18272d22cb6c\n",
            "Successfully built ibm-watson wget ibm-cloud-sdk-core\n",
            "Installing collected packages: websocket-client, PyJWT, ibm-cloud-sdk-core, ibm-watson, wget\n",
            "Successfully installed PyJWT-1.7.1 ibm-cloud-sdk-core-1.5.1 ibm-watson-4.4.1 websocket-client-0.48.0 wget-3.2\n"
          ],
          "name": "stdout"
        }
      ]
    },
    {
      "cell_type": "code",
      "metadata": {
        "id": "EvBijaMsHJU-",
        "colab_type": "code",
        "colab": {}
      },
      "source": [
        "from ibm_watson import SpeechToTextV1 \n",
        "import json\n",
        "from ibm_cloud_sdk_core.authenticators import IAMAuthenticator"
      ],
      "execution_count": 0,
      "outputs": []
    },
    {
      "cell_type": "code",
      "metadata": {
        "id": "fIFMix-wIbTI",
        "colab_type": "code",
        "colab": {}
      },
      "source": [
        "url_s2t = \"https://api.eu-gb.speech-to-text.watson.cloud.ibm.com/instances/ef783693-c24b-4342-ab6b-6fe4df9ec559\"\n",
        "api_key = \"qaEuF8Et_cGlu7jI2UtZc5NVf79ww_tCiogcIw9-q8Yi\""
      ],
      "execution_count": 0,
      "outputs": []
    },
    {
      "cell_type": "code",
      "metadata": {
        "id": "0E8eIWWTKQT5",
        "colab_type": "code",
        "colab": {
          "base_uri": "https://localhost:8080/",
          "height": 34
        },
        "outputId": "592238c3-b84a-4ccb-ffac-2dbf18dbb9a0"
      },
      "source": [
        "authenticator = IAMAuthenticator(api_key)\n",
        "s2t = SpeechToTextV1(authenticator=authenticator)\n",
        "s2t.set_service_url(url_s2t)\n",
        "s2t"
      ],
      "execution_count": 5,
      "outputs": [
        {
          "output_type": "execute_result",
          "data": {
            "text/plain": [
              "<ibm_watson.speech_to_text_v1_adapter.SpeechToTextV1Adapter at 0x7fa1b32cea20>"
            ]
          },
          "metadata": {
            "tags": []
          },
          "execution_count": 5
        }
      ]
    },
    {
      "cell_type": "code",
      "metadata": {
        "id": "60aSmlDKKWPU",
        "colab_type": "code",
        "colab": {
          "base_uri": "https://localhost:8080/",
          "height": 202
        },
        "outputId": "df70a8ab-6d65-463b-a54c-e03d03b00368"
      },
      "source": [
        "!wget -O PolynomialRegressionandPipelines.mp3  https://s3-api.us-geo.objectstorage.softlayer.net/cf-courses-data/CognitiveClass/PY0101EN/labs/PolynomialRegressionandPipelines.mp3\n",
        "#this is mp3 audio\n"
      ],
      "execution_count": 6,
      "outputs": [
        {
          "output_type": "stream",
          "text": [
            "--2020-05-21 21:35:31--  https://s3-api.us-geo.objectstorage.softlayer.net/cf-courses-data/CognitiveClass/PY0101EN/labs/PolynomialRegressionandPipelines.mp3\n",
            "Resolving s3-api.us-geo.objectstorage.softlayer.net (s3-api.us-geo.objectstorage.softlayer.net)... 67.228.254.196\n",
            "Connecting to s3-api.us-geo.objectstorage.softlayer.net (s3-api.us-geo.objectstorage.softlayer.net)|67.228.254.196|:443... connected.\n",
            "HTTP request sent, awaiting response... 200 OK\n",
            "Length: 4234179 (4.0M) [audio/mpeg]\n",
            "Saving to: ‘PolynomialRegressionandPipelines.mp3’\n",
            "\n",
            "PolynomialRegressio 100%[===================>]   4.04M  1.42MB/s    in 2.8s    \n",
            "\n",
            "2020-05-21 21:35:34 (1.42 MB/s) - ‘PolynomialRegressionandPipelines.mp3’ saved [4234179/4234179]\n",
            "\n"
          ],
          "name": "stdout"
        }
      ]
    },
    {
      "cell_type": "code",
      "metadata": {
        "id": "s5yA5aHyKjDb",
        "colab_type": "code",
        "colab": {
          "base_uri": "https://localhost:8080/",
          "height": 34
        },
        "outputId": "52873e63-a4e5-4c99-9a54-d36fa933ba65"
      },
      "source": [
        "filename='PolynomialRegressionandPipelines.mp3'\n",
        "filename"
      ],
      "execution_count": 8,
      "outputs": [
        {
          "output_type": "execute_result",
          "data": {
            "text/plain": [
              "'PolynomialRegressionandPipelines.mp3'"
            ]
          },
          "metadata": {
            "tags": []
          },
          "execution_count": 8
        }
      ]
    },
    {
      "cell_type": "code",
      "metadata": {
        "id": "8xut1tnEKo8Q",
        "colab_type": "code",
        "colab": {}
      },
      "source": [
        "with open(filename, mode=\"rb\")  as wav:\n",
        "    response = s2t.recognize(audio=wav, content_type='audio/mp3')"
      ],
      "execution_count": 0,
      "outputs": []
    },
    {
      "cell_type": "code",
      "metadata": {
        "id": "sdv56rTTLfCo",
        "colab_type": "code",
        "colab": {
          "base_uri": "https://localhost:8080/",
          "height": 608
        },
        "outputId": "10d754bd-2844-4ab6-b0d5-2787cdb961bf"
      },
      "source": [
        "response.result\n"
      ],
      "execution_count": 11,
      "outputs": [
        {
          "output_type": "execute_result",
          "data": {
            "text/plain": [
              "{'result_index': 0,\n",
              " 'results': [{'alternatives': [{'confidence': 0.94,\n",
              "     'transcript': 'in this video we will cover polynomial regression and pipelines '}],\n",
              "   'final': True},\n",
              "  {'alternatives': [{'confidence': 0.9,\n",
              "     'transcript': \"what do we do when a linear model is not the best fit for our data let's look into another type of regression model the polynomial regression we transform our data into a polynomial then use linear regression to fit the parameters that we will discuss pipelines pipelines are way to simplify your code \"}],\n",
              "   'final': True},\n",
              "  {'alternatives': [{'confidence': 0.95,\n",
              "     'transcript': \"polynomial regression is a special case of the general linear regression this method is beneficial for describing curvilinear relationships what is a curvilinear relationship it's what you get by squaring or setting higher order terms of the predictor variables in the model transforming the data the model can be quadratic which means the predictor variable in the model is squared we use a bracket to indicated as an exponent this is the second order polynomial regression with a figure representing the function \"}],\n",
              "   'final': True},\n",
              "  {'alternatives': [{'confidence': 0.95,\n",
              "     'transcript': 'the model can be cubic which means the predictor variable is cute this is the third order polynomial regression we see by examining the figure that the function has more variation '}],\n",
              "   'final': True},\n",
              "  {'alternatives': [{'confidence': 0.91,\n",
              "     'transcript': \"there also exists higher order polynomial regressions when a good fit hasn't been achieved by second or third order we can see in figures how much the graphs change when we change the order of the polynomial regression the degree of the regression makes a big difference and can result in a better fit if you pick the right value in all cases the relationship between the variable in the parameter is always linear \"}],\n",
              "   'final': True},\n",
              "  {'alternatives': [{'confidence': 0.89,\n",
              "     'transcript': \"let's look at an example from our data we generate a polynomial regression model \"}],\n",
              "   'final': True},\n",
              "  {'alternatives': [{'confidence': 0.92,\n",
              "     'transcript': 'in python we do this by using the poly fit function in this example we develop a third order polynomial regression model base we can print out the model symbolic form for the model is given by the following expression '}],\n",
              "   'final': True},\n",
              "  {'alternatives': [{'confidence': 0.9,\n",
              "     'transcript': \"negative one point five five seven X. one cute plus two hundred four point eight X. one squared plus eight thousand nine hundred sixty five X. one plus one point three seven times ten to the power of five we can also have multi dimensional polynomial linear regression the expression can get complicated here are just some of the terms for two dimensional second order polynomial none pies poly fit function cannot perform this type of regression we use the preprocessing librarian scikit learn to create a polynomial feature object the constructor takes the degree of the polynomial as a parameter then we transform the features into a polynomial feature with the fit underscore transform method let's do a more intuitive example \"}],\n",
              "   'final': True},\n",
              "  {'alternatives': [{'confidence': 0.9,\n",
              "     'transcript': 'consider the feature shown here applying the method we transform the data we now have a new set of features that are transformed version of our original features as that I mention of the data gets larger we may want to normalize multiple features as scikit learn instead we can use the preprocessing module to simplify many tasks for example we can standardize each feature simultaneously we import standard scaler we train the object fit the scale object then transform the data into a new data frame on a rate X. underscore scale there are more normalization methods available in the pre processing library as well as other transformations we can simplify our code by using a pipeline library there are many steps to getting a prediction for example normalization polynomial transform and linear regression we simplify the process using a pipeline '}],\n",
              "   'final': True},\n",
              "  {'alternatives': [{'confidence': 0.89,\n",
              "     'transcript': 'pipeline sequentially perform a series of transformations the last step carries out a prediction first we import all the modules we need then we import the library pipeline we create a list of topples the first element in the topple contains the name of the estimator model the second element contains model constructor we input the list in the pipeline constructor we now have a pipeline object we can train the pipeline by applying the train method to the pipeline object we can also produce a prediction as well '}],\n",
              "   'final': True},\n",
              "  {'alternatives': [{'confidence': 0.89,\n",
              "     'transcript': 'the method normalizes the data performs a polynomial transform then outputs a prediction '}],\n",
              "   'final': True}]}"
            ]
          },
          "metadata": {
            "tags": []
          },
          "execution_count": 11
        }
      ]
    },
    {
      "cell_type": "code",
      "metadata": {
        "id": "m1d-lbGjI3W_",
        "colab_type": "code",
        "colab": {
          "base_uri": "https://localhost:8080/",
          "height": 406
        },
        "outputId": "ca5d27ee-a065-4e8a-a617-482343e56afb"
      },
      "source": [
        "from pandas.io.json import json_normalize\n",
        "\n",
        "json_normalize(response.result['results'],\"alternatives\")"
      ],
      "execution_count": 23,
      "outputs": [
        {
          "output_type": "stream",
          "text": [
            "/usr/local/lib/python3.6/dist-packages/ipykernel_launcher.py:3: FutureWarning: pandas.io.json.json_normalize is deprecated, use pandas.json_normalize instead\n",
            "  This is separate from the ipykernel package so we can avoid doing imports until\n"
          ],
          "name": "stderr"
        },
        {
          "output_type": "execute_result",
          "data": {
            "text/html": [
              "<div>\n",
              "<style scoped>\n",
              "    .dataframe tbody tr th:only-of-type {\n",
              "        vertical-align: middle;\n",
              "    }\n",
              "\n",
              "    .dataframe tbody tr th {\n",
              "        vertical-align: top;\n",
              "    }\n",
              "\n",
              "    .dataframe thead th {\n",
              "        text-align: right;\n",
              "    }\n",
              "</style>\n",
              "<table border=\"1\" class=\"dataframe\">\n",
              "  <thead>\n",
              "    <tr style=\"text-align: right;\">\n",
              "      <th></th>\n",
              "      <th>confidence</th>\n",
              "      <th>transcript</th>\n",
              "    </tr>\n",
              "  </thead>\n",
              "  <tbody>\n",
              "    <tr>\n",
              "      <th>0</th>\n",
              "      <td>0.94</td>\n",
              "      <td>in this video we will cover polynomial regress...</td>\n",
              "    </tr>\n",
              "    <tr>\n",
              "      <th>1</th>\n",
              "      <td>0.90</td>\n",
              "      <td>what do we do when a linear model is not the b...</td>\n",
              "    </tr>\n",
              "    <tr>\n",
              "      <th>2</th>\n",
              "      <td>0.95</td>\n",
              "      <td>polynomial regression is a special case of the...</td>\n",
              "    </tr>\n",
              "    <tr>\n",
              "      <th>3</th>\n",
              "      <td>0.95</td>\n",
              "      <td>the model can be cubic which means the predict...</td>\n",
              "    </tr>\n",
              "    <tr>\n",
              "      <th>4</th>\n",
              "      <td>0.91</td>\n",
              "      <td>there also exists higher order polynomial regr...</td>\n",
              "    </tr>\n",
              "    <tr>\n",
              "      <th>5</th>\n",
              "      <td>0.89</td>\n",
              "      <td>let's look at an example from our data we gene...</td>\n",
              "    </tr>\n",
              "    <tr>\n",
              "      <th>6</th>\n",
              "      <td>0.92</td>\n",
              "      <td>in python we do this by using the poly fit fun...</td>\n",
              "    </tr>\n",
              "    <tr>\n",
              "      <th>7</th>\n",
              "      <td>0.90</td>\n",
              "      <td>negative one point five five seven X. one cute...</td>\n",
              "    </tr>\n",
              "    <tr>\n",
              "      <th>8</th>\n",
              "      <td>0.90</td>\n",
              "      <td>consider the feature shown here applying the m...</td>\n",
              "    </tr>\n",
              "    <tr>\n",
              "      <th>9</th>\n",
              "      <td>0.89</td>\n",
              "      <td>pipeline sequentially perform a series of tran...</td>\n",
              "    </tr>\n",
              "    <tr>\n",
              "      <th>10</th>\n",
              "      <td>0.89</td>\n",
              "      <td>the method normalizes the data performs a poly...</td>\n",
              "    </tr>\n",
              "  </tbody>\n",
              "</table>\n",
              "</div>"
            ],
            "text/plain": [
              "    confidence                                         transcript\n",
              "0         0.94  in this video we will cover polynomial regress...\n",
              "1         0.90  what do we do when a linear model is not the b...\n",
              "2         0.95  polynomial regression is a special case of the...\n",
              "3         0.95  the model can be cubic which means the predict...\n",
              "4         0.91  there also exists higher order polynomial regr...\n",
              "5         0.89  let's look at an example from our data we gene...\n",
              "6         0.92  in python we do this by using the poly fit fun...\n",
              "7         0.90  negative one point five five seven X. one cute...\n",
              "8         0.90  consider the feature shown here applying the m...\n",
              "9         0.89  pipeline sequentially perform a series of tran...\n",
              "10        0.89  the method normalizes the data performs a poly..."
            ]
          },
          "metadata": {
            "tags": []
          },
          "execution_count": 23
        }
      ]
    },
    {
      "cell_type": "code",
      "metadata": {
        "id": "EEndFlvaO3UD",
        "colab_type": "code",
        "colab": {
          "base_uri": "https://localhost:8080/",
          "height": 1000
        },
        "outputId": "d961d38d-2092-433f-e21b-cc1e4ad87bb6"
      },
      "source": [
        "print(response)"
      ],
      "execution_count": 25,
      "outputs": [
        {
          "output_type": "stream",
          "text": [
            "{\n",
            "    \"result\": {\n",
            "        \"results\": [\n",
            "            {\n",
            "                \"alternatives\": [\n",
            "                    {\n",
            "                        \"confidence\": 0.94,\n",
            "                        \"transcript\": \"in this video we will cover polynomial regression and pipelines \"\n",
            "                    }\n",
            "                ],\n",
            "                \"final\": true\n",
            "            },\n",
            "            {\n",
            "                \"alternatives\": [\n",
            "                    {\n",
            "                        \"confidence\": 0.9,\n",
            "                        \"transcript\": \"what do we do when a linear model is not the best fit for our data let's look into another type of regression model the polynomial regression we transform our data into a polynomial then use linear regression to fit the parameters that we will discuss pipelines pipelines are way to simplify your code \"\n",
            "                    }\n",
            "                ],\n",
            "                \"final\": true\n",
            "            },\n",
            "            {\n",
            "                \"alternatives\": [\n",
            "                    {\n",
            "                        \"confidence\": 0.95,\n",
            "                        \"transcript\": \"polynomial regression is a special case of the general linear regression this method is beneficial for describing curvilinear relationships what is a curvilinear relationship it's what you get by squaring or setting higher order terms of the predictor variables in the model transforming the data the model can be quadratic which means the predictor variable in the model is squared we use a bracket to indicated as an exponent this is the second order polynomial regression with a figure representing the function \"\n",
            "                    }\n",
            "                ],\n",
            "                \"final\": true\n",
            "            },\n",
            "            {\n",
            "                \"alternatives\": [\n",
            "                    {\n",
            "                        \"confidence\": 0.95,\n",
            "                        \"transcript\": \"the model can be cubic which means the predictor variable is cute this is the third order polynomial regression we see by examining the figure that the function has more variation \"\n",
            "                    }\n",
            "                ],\n",
            "                \"final\": true\n",
            "            },\n",
            "            {\n",
            "                \"alternatives\": [\n",
            "                    {\n",
            "                        \"confidence\": 0.91,\n",
            "                        \"transcript\": \"there also exists higher order polynomial regressions when a good fit hasn't been achieved by second or third order we can see in figures how much the graphs change when we change the order of the polynomial regression the degree of the regression makes a big difference and can result in a better fit if you pick the right value in all cases the relationship between the variable in the parameter is always linear \"\n",
            "                    }\n",
            "                ],\n",
            "                \"final\": true\n",
            "            },\n",
            "            {\n",
            "                \"alternatives\": [\n",
            "                    {\n",
            "                        \"confidence\": 0.89,\n",
            "                        \"transcript\": \"let's look at an example from our data we generate a polynomial regression model \"\n",
            "                    }\n",
            "                ],\n",
            "                \"final\": true\n",
            "            },\n",
            "            {\n",
            "                \"alternatives\": [\n",
            "                    {\n",
            "                        \"confidence\": 0.92,\n",
            "                        \"transcript\": \"in python we do this by using the poly fit function in this example we develop a third order polynomial regression model base we can print out the model symbolic form for the model is given by the following expression \"\n",
            "                    }\n",
            "                ],\n",
            "                \"final\": true\n",
            "            },\n",
            "            {\n",
            "                \"alternatives\": [\n",
            "                    {\n",
            "                        \"confidence\": 0.9,\n",
            "                        \"transcript\": \"negative one point five five seven X. one cute plus two hundred four point eight X. one squared plus eight thousand nine hundred sixty five X. one plus one point three seven times ten to the power of five we can also have multi dimensional polynomial linear regression the expression can get complicated here are just some of the terms for two dimensional second order polynomial none pies poly fit function cannot perform this type of regression we use the preprocessing librarian scikit learn to create a polynomial feature object the constructor takes the degree of the polynomial as a parameter then we transform the features into a polynomial feature with the fit underscore transform method let's do a more intuitive example \"\n",
            "                    }\n",
            "                ],\n",
            "                \"final\": true\n",
            "            },\n",
            "            {\n",
            "                \"alternatives\": [\n",
            "                    {\n",
            "                        \"confidence\": 0.9,\n",
            "                        \"transcript\": \"consider the feature shown here applying the method we transform the data we now have a new set of features that are transformed version of our original features as that I mention of the data gets larger we may want to normalize multiple features as scikit learn instead we can use the preprocessing module to simplify many tasks for example we can standardize each feature simultaneously we import standard scaler we train the object fit the scale object then transform the data into a new data frame on a rate X. underscore scale there are more normalization methods available in the pre processing library as well as other transformations we can simplify our code by using a pipeline library there are many steps to getting a prediction for example normalization polynomial transform and linear regression we simplify the process using a pipeline \"\n",
            "                    }\n",
            "                ],\n",
            "                \"final\": true\n",
            "            },\n",
            "            {\n",
            "                \"alternatives\": [\n",
            "                    {\n",
            "                        \"confidence\": 0.89,\n",
            "                        \"transcript\": \"pipeline sequentially perform a series of transformations the last step carries out a prediction first we import all the modules we need then we import the library pipeline we create a list of topples the first element in the topple contains the name of the estimator model the second element contains model constructor we input the list in the pipeline constructor we now have a pipeline object we can train the pipeline by applying the train method to the pipeline object we can also produce a prediction as well \"\n",
            "                    }\n",
            "                ],\n",
            "                \"final\": true\n",
            "            },\n",
            "            {\n",
            "                \"alternatives\": [\n",
            "                    {\n",
            "                        \"confidence\": 0.89,\n",
            "                        \"transcript\": \"the method normalizes the data performs a polynomial transform then outputs a prediction \"\n",
            "                    }\n",
            "                ],\n",
            "                \"final\": true\n",
            "            }\n",
            "        ],\n",
            "        \"result_index\": 0\n",
            "    },\n",
            "    \"headers\": {\n",
            "        \"_store\": {\n",
            "            \"content-type\": [\n",
            "                \"Content-Type\",\n",
            "                \"application/json\"\n",
            "            ],\n",
            "            \"session-name\": [\n",
            "                \"session-name\",\n",
            "                \"IKSAXXLYHRJYCKWM-en-US_BroadbandModel\"\n",
            "            ],\n",
            "            \"content-security-policy\": [\n",
            "                \"content-security-policy\",\n",
            "                \"default-src 'none'\"\n",
            "            ],\n",
            "            \"x-content-type-options\": [\n",
            "                \"x-content-type-options\",\n",
            "                \"nosniff\"\n",
            "            ],\n",
            "            \"x-xss-protection\": [\n",
            "                \"x-xss-protection\",\n",
            "                \"1\"\n",
            "            ],\n",
            "            \"x-frame-options\": [\n",
            "                \"x-frame-options\",\n",
            "                \"DENY\"\n",
            "            ],\n",
            "            \"strict-transport-security\": [\n",
            "                \"strict-transport-security\",\n",
            "                \"max-age=31536000; includeSubDomains;\"\n",
            "            ],\n",
            "            \"x-global-transaction-id\": [\n",
            "                \"x-global-transaction-id\",\n",
            "                \"8943123aec47a8c378172221769120e6\"\n",
            "            ],\n",
            "            \"x-dp-watson-tran-id\": [\n",
            "                \"X-DP-Watson-Tran-ID\",\n",
            "                \"8943123aec47a8c378172221769120e6\"\n",
            "            ],\n",
            "            \"x-edgeconnect-midmile-rtt\": [\n",
            "                \"X-EdgeConnect-MidMile-RTT\",\n",
            "                \"284\"\n",
            "            ],\n",
            "            \"x-edgeconnect-origin-mex-latency\": [\n",
            "                \"X-EdgeConnect-Origin-MEX-Latency\",\n",
            "                \"5200\"\n",
            "            ],\n",
            "            \"date\": [\n",
            "                \"Date\",\n",
            "                \"Thu, 21 May 2020 21:40:11 GMT\"\n",
            "            ],\n",
            "            \"transfer-encoding\": [\n",
            "                \"Transfer-Encoding\",\n",
            "                \"chunked\"\n",
            "            ],\n",
            "            \"connection\": [\n",
            "                \"Connection\",\n",
            "                \"keep-alive, Transfer-Encoding\"\n",
            "            ]\n",
            "        }\n",
            "    },\n",
            "    \"status_code\": 200\n",
            "}\n"
          ],
          "name": "stdout"
        }
      ]
    },
    {
      "cell_type": "code",
      "metadata": {
        "id": "k-mbWgxoPYgE",
        "colab_type": "code",
        "colab": {
          "base_uri": "https://localhost:8080/",
          "height": 54
        },
        "outputId": "63e233e9-e51c-4649-c50a-63837b25078e"
      },
      "source": [
        "recognized_text=response.result['results'][1][\"alternatives\"][0][\"transcript\"]\n",
        "recognized_text"
      ],
      "execution_count": 31,
      "outputs": [
        {
          "output_type": "execute_result",
          "data": {
            "text/plain": [
              "\"what do we do when a linear model is not the best fit for our data let's look into another type of regression model the polynomial regression we transform our data into a polynomial then use linear regression to fit the parameters that we will discuss pipelines pipelines are way to simplify your code \""
            ]
          },
          "metadata": {
            "tags": []
          },
          "execution_count": 31
        }
      ]
    },
    {
      "cell_type": "markdown",
      "metadata": {
        "id": "KBlhXDQKRHoI",
        "colab_type": "text"
      },
      "source": [
        "SPEECH TO TEXT RECOGNISATION COMPLETED"
      ]
    },
    {
      "cell_type": "code",
      "metadata": {
        "id": "ziFPT8iJRIkC",
        "colab_type": "code",
        "colab": {}
      },
      "source": [
        "from ibm_watson import LanguageTranslatorV3\n",
        "url_lt='https://api.eu-gb.language-translator.watson.cloud.ibm.com/instances/c424623e-178d-4722-9f1e-99ae79bf54c1'\n",
        "apikey_lt='xP4VhR0NXIf-NKJqjH6ORYBeaL4y6_rDIdQW61fT3b3p'\n",
        "version_lt='2018-05-01'"
      ],
      "execution_count": 0,
      "outputs": []
    },
    {
      "cell_type": "code",
      "metadata": {
        "id": "30cs-rPCR0IA",
        "colab_type": "code",
        "colab": {
          "base_uri": "https://localhost:8080/",
          "height": 34
        },
        "outputId": "90eaba6f-58a6-4b7a-9ae7-019465ca3010"
      },
      "source": [
        "authenticator = IAMAuthenticator(apikey_lt)\n",
        "language_translator = LanguageTranslatorV3(version=version_lt,authenticator=authenticator)\n",
        "language_translator.set_service_url(url_lt)\n",
        "language_translator"
      ],
      "execution_count": 33,
      "outputs": [
        {
          "output_type": "execute_result",
          "data": {
            "text/plain": [
              "<ibm_watson.language_translator_v3.LanguageTranslatorV3 at 0x7fa1b2d02400>"
            ]
          },
          "metadata": {
            "tags": []
          },
          "execution_count": 33
        }
      ]
    },
    {
      "cell_type": "code",
      "metadata": {
        "id": "joQk3El-SIFm",
        "colab_type": "code",
        "colab": {
          "base_uri": "https://localhost:8080/",
          "height": 435
        },
        "outputId": "ba105d34-9cad-4262-ca41-6062a34bd5b5"
      },
      "source": [
        "from pandas.io.json import json_normalize\n",
        "\n",
        "json_normalize(language_translator.list_identifiable_languages().get_result(), \"languages\")"
      ],
      "execution_count": 34,
      "outputs": [
        {
          "output_type": "stream",
          "text": [
            "/usr/local/lib/python3.6/dist-packages/ipykernel_launcher.py:3: FutureWarning: pandas.io.json.json_normalize is deprecated, use pandas.json_normalize instead\n",
            "  This is separate from the ipykernel package so we can avoid doing imports until\n"
          ],
          "name": "stderr"
        },
        {
          "output_type": "execute_result",
          "data": {
            "text/html": [
              "<div>\n",
              "<style scoped>\n",
              "    .dataframe tbody tr th:only-of-type {\n",
              "        vertical-align: middle;\n",
              "    }\n",
              "\n",
              "    .dataframe tbody tr th {\n",
              "        vertical-align: top;\n",
              "    }\n",
              "\n",
              "    .dataframe thead th {\n",
              "        text-align: right;\n",
              "    }\n",
              "</style>\n",
              "<table border=\"1\" class=\"dataframe\">\n",
              "  <thead>\n",
              "    <tr style=\"text-align: right;\">\n",
              "      <th></th>\n",
              "      <th>language</th>\n",
              "      <th>name</th>\n",
              "    </tr>\n",
              "  </thead>\n",
              "  <tbody>\n",
              "    <tr>\n",
              "      <th>0</th>\n",
              "      <td>af</td>\n",
              "      <td>Afrikaans</td>\n",
              "    </tr>\n",
              "    <tr>\n",
              "      <th>1</th>\n",
              "      <td>ar</td>\n",
              "      <td>Arabic</td>\n",
              "    </tr>\n",
              "    <tr>\n",
              "      <th>2</th>\n",
              "      <td>az</td>\n",
              "      <td>Azerbaijani</td>\n",
              "    </tr>\n",
              "    <tr>\n",
              "      <th>3</th>\n",
              "      <td>ba</td>\n",
              "      <td>Bashkir</td>\n",
              "    </tr>\n",
              "    <tr>\n",
              "      <th>4</th>\n",
              "      <td>be</td>\n",
              "      <td>Belarusian</td>\n",
              "    </tr>\n",
              "    <tr>\n",
              "      <th>...</th>\n",
              "      <td>...</td>\n",
              "      <td>...</td>\n",
              "    </tr>\n",
              "    <tr>\n",
              "      <th>70</th>\n",
              "      <td>uk</td>\n",
              "      <td>Ukrainian</td>\n",
              "    </tr>\n",
              "    <tr>\n",
              "      <th>71</th>\n",
              "      <td>ur</td>\n",
              "      <td>Urdu</td>\n",
              "    </tr>\n",
              "    <tr>\n",
              "      <th>72</th>\n",
              "      <td>vi</td>\n",
              "      <td>Vietnamese</td>\n",
              "    </tr>\n",
              "    <tr>\n",
              "      <th>73</th>\n",
              "      <td>zh</td>\n",
              "      <td>Simplified Chinese</td>\n",
              "    </tr>\n",
              "    <tr>\n",
              "      <th>74</th>\n",
              "      <td>zh-TW</td>\n",
              "      <td>Traditional Chinese</td>\n",
              "    </tr>\n",
              "  </tbody>\n",
              "</table>\n",
              "<p>75 rows × 2 columns</p>\n",
              "</div>"
            ],
            "text/plain": [
              "   language                 name\n",
              "0        af            Afrikaans\n",
              "1        ar               Arabic\n",
              "2        az          Azerbaijani\n",
              "3        ba              Bashkir\n",
              "4        be           Belarusian\n",
              "..      ...                  ...\n",
              "70       uk            Ukrainian\n",
              "71       ur                 Urdu\n",
              "72       vi           Vietnamese\n",
              "73       zh   Simplified Chinese\n",
              "74    zh-TW  Traditional Chinese\n",
              "\n",
              "[75 rows x 2 columns]"
            ]
          },
          "metadata": {
            "tags": []
          },
          "execution_count": 34
        }
      ]
    },
    {
      "cell_type": "code",
      "metadata": {
        "id": "aNV-92YbSLuj",
        "colab_type": "code",
        "colab": {
          "base_uri": "https://localhost:8080/",
          "height": 1000
        },
        "outputId": "999ad0a9-d3db-4120-9cf7-b0dda47f331a"
      },
      "source": [
        "translation_response = language_translator.translate(\\\n",
        "    text=recognized_text, model_id='en-es')\n",
        "print(translation_response)"
      ],
      "execution_count": 36,
      "outputs": [
        {
          "output_type": "stream",
          "text": [
            "{\n",
            "    \"result\": {\n",
            "        \"translations\": [\n",
            "            {\n",
            "                \"translation\": \"\\u00bfQu\\u00e9 hacemos cuando un modelo lineal no es el mejor ajuste para nuestros datos? Veamos otro tipo de regresi\\u00f3n modelo la regresi\\u00f3n polin\\u00f3mica que transformamos nuestros datos en un polinomio entonces utilizar regresi\\u00f3n lineal para ajustar los par\\u00e1metros que vamos a discutir las interconexiones de interconexiones es la manera de simplificar su c\\u00f3digo \"\n",
            "            }\n",
            "        ],\n",
            "        \"word_count\": 54,\n",
            "        \"character_count\": 302\n",
            "    },\n",
            "    \"headers\": {\n",
            "        \"_store\": {\n",
            "            \"content-type\": [\n",
            "                \"Content-Type\",\n",
            "                \"application/json;charset=UTF-8\"\n",
            "            ],\n",
            "            \"content-length\": [\n",
            "                \"Content-Length\",\n",
            "                \"462\"\n",
            "            ],\n",
            "            \"x-xss-protection\": [\n",
            "                \"X-XSS-Protection\",\n",
            "                \"1; mode=block\"\n",
            "            ],\n",
            "            \"x-content-type-options\": [\n",
            "                \"X-Content-Type-Options\",\n",
            "                \"nosniff\"\n",
            "            ],\n",
            "            \"content-security-policy\": [\n",
            "                \"Content-Security-Policy\",\n",
            "                \"default-src 'none'\"\n",
            "            ],\n",
            "            \"cache-control\": [\n",
            "                \"Cache-Control\",\n",
            "                \"no-cache, no-store\"\n",
            "            ],\n",
            "            \"pragma\": [\n",
            "                \"Pragma\",\n",
            "                \"no-cache\"\n",
            "            ],\n",
            "            \"content-language\": [\n",
            "                \"Content-Language\",\n",
            "                \"en-US\"\n",
            "            ],\n",
            "            \"strict-transport-security\": [\n",
            "                \"strict-transport-security\",\n",
            "                \"max-age=31536000; includeSubDomains;\"\n",
            "            ],\n",
            "            \"x-global-transaction-id\": [\n",
            "                \"x-global-transaction-id\",\n",
            "                \"843dad331c64b5a97d6205fb9c0ab4f0\"\n",
            "            ],\n",
            "            \"x-dp-watson-tran-id\": [\n",
            "                \"X-DP-Watson-Tran-ID\",\n",
            "                \"843dad331c64b5a97d6205fb9c0ab4f0\"\n",
            "            ],\n",
            "            \"x-edgeconnect-midmile-rtt\": [\n",
            "                \"X-EdgeConnect-MidMile-RTT\",\n",
            "                \"268\"\n",
            "            ],\n",
            "            \"x-edgeconnect-origin-mex-latency\": [\n",
            "                \"X-EdgeConnect-Origin-MEX-Latency\",\n",
            "                \"81\"\n",
            "            ],\n",
            "            \"date\": [\n",
            "                \"Date\",\n",
            "                \"Thu, 21 May 2020 22:11:55 GMT\"\n",
            "            ],\n",
            "            \"connection\": [\n",
            "                \"Connection\",\n",
            "                \"keep-alive\"\n",
            "            ]\n",
            "        }\n",
            "    },\n",
            "    \"status_code\": 200\n",
            "}\n"
          ],
          "name": "stdout"
        }
      ]
    },
    {
      "cell_type": "code",
      "metadata": {
        "id": "fhjOPn6aSTSj",
        "colab_type": "code",
        "colab": {
          "base_uri": "https://localhost:8080/",
          "height": 87
        },
        "outputId": "9de2c758-1b77-47f6-d0e3-84e3f4f7dee5"
      },
      "source": [
        "translation=translation_response.get_result()\n",
        "translation"
      ],
      "execution_count": 37,
      "outputs": [
        {
          "output_type": "execute_result",
          "data": {
            "text/plain": [
              "{'character_count': 302,\n",
              " 'translations': [{'translation': '¿Qué hacemos cuando un modelo lineal no es el mejor ajuste para nuestros datos? Veamos otro tipo de regresión modelo la regresión polinómica que transformamos nuestros datos en un polinomio entonces utilizar regresión lineal para ajustar los parámetros que vamos a discutir las interconexiones de interconexiones es la manera de simplificar su código '}],\n",
              " 'word_count': 54}"
            ]
          },
          "metadata": {
            "tags": []
          },
          "execution_count": 37
        }
      ]
    },
    {
      "cell_type": "code",
      "metadata": {
        "id": "_sNza38NSXRe",
        "colab_type": "code",
        "colab": {
          "base_uri": "https://localhost:8080/",
          "height": 54
        },
        "outputId": "8cd52b01-f4db-4e5a-ccc0-d413fb07142b"
      },
      "source": [
        "spanish_translation =translation['translations'][0]['translation']\n",
        "spanish_translation "
      ],
      "execution_count": 38,
      "outputs": [
        {
          "output_type": "execute_result",
          "data": {
            "text/plain": [
              "'¿Qué hacemos cuando un modelo lineal no es el mejor ajuste para nuestros datos? Veamos otro tipo de regresión modelo la regresión polinómica que transformamos nuestros datos en un polinomio entonces utilizar regresión lineal para ajustar los parámetros que vamos a discutir las interconexiones de interconexiones es la manera de simplificar su código '"
            ]
          },
          "metadata": {
            "tags": []
          },
          "execution_count": 38
        }
      ]
    },
    {
      "cell_type": "code",
      "metadata": {
        "id": "F6jpgZvXSaBB",
        "colab_type": "code",
        "colab": {
          "base_uri": "https://localhost:8080/",
          "height": 87
        },
        "outputId": "4a2648cd-a99d-4ebe-c886-4cdd956bf35b"
      },
      "source": [
        "translation_back_to_english = language_translator.translate(text=spanish_translation ,model_id='es-en').get_result()\n",
        "translation_back_to_english"
      ],
      "execution_count": 42,
      "outputs": [
        {
          "output_type": "execute_result",
          "data": {
            "text/plain": [
              "{'character_count': 351,\n",
              " 'translations': [{'translation': \"What do we do when a linear model is not the best fit for our data? Let' s look at another kind of model regression polynomial regression that transforms our data into a polynomial then use linear regression to adjust the parameters that we are going to discuss interconnection interconnections is the way to simplify your code \"}],\n",
              " 'word_count': 53}"
            ]
          },
          "metadata": {
            "tags": []
          },
          "execution_count": 42
        }
      ]
    },
    {
      "cell_type": "code",
      "metadata": {
        "id": "jrlDGkm8Sg_c",
        "colab_type": "code",
        "colab": {
          "base_uri": "https://localhost:8080/",
          "height": 54
        },
        "outputId": "3bfc49b6-8f70-4fe4-ccc8-0cbf941ffd57"
      },
      "source": [
        "translation_eng=translation_new['translations'][0]['translation']\n",
        "translation_eng"
      ],
      "execution_count": 43,
      "outputs": [
        {
          "output_type": "execute_result",
          "data": {
            "text/plain": [
              "\"What do we do when a linear model is not the best fit for our data? Let' s look at another kind of model regression polynomial regression that transforms our data into a polynomial then use linear regression to adjust the parameters that we are going to discuss interconnection interconnections is the way to simplify your code \""
            ]
          },
          "metadata": {
            "tags": []
          },
          "execution_count": 43
        }
      ]
    },
    {
      "cell_type": "code",
      "metadata": {
        "id": "ejGgxPW0Sk_i",
        "colab_type": "code",
        "colab": {}
      },
      "source": [
        "French_translation=language_translator.translate(\n",
        "    text=translation_eng , model_id='en-fr').get_result()"
      ],
      "execution_count": 0,
      "outputs": []
    },
    {
      "cell_type": "code",
      "metadata": {
        "id": "yPNszl8ySmNV",
        "colab_type": "code",
        "colab": {
          "base_uri": "https://localhost:8080/",
          "height": 54
        },
        "outputId": "2108c0af-7592-4b03-c31f-4735473a626b"
      },
      "source": [
        "French_translation['translations'][0]['translation']"
      ],
      "execution_count": 45,
      "outputs": [
        {
          "output_type": "execute_result",
          "data": {
            "text/plain": [
              "\"Que faisons-nous lorsqu'un modèle linéaire n'est pas le meilleur pour nos données? Examinons un autre type de régression modèle de régression polynomiale qui transforme nos données en polynôme, puis utilise la régression linéaire pour ajuster les paramètres que nous allons discuter des interconnexions d'interconnexion est la façon de simplifier votre code \""
            ]
          },
          "metadata": {
            "tags": []
          },
          "execution_count": 45
        }
      ]
    }
  ]
}